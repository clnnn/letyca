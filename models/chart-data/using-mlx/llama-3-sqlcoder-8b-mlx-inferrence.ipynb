{
 "cells": [
  {
   "cell_type": "markdown",
   "metadata": {},
   "source": [
    "# MLX inferrence - Text to SQL to extract chart data"
   ]
  },
  {
   "cell_type": "markdown",
   "metadata": {},
   "source": [
    "> For this model, we don't need to fine tune the model since there are pre-trained models available for text to SQL. We are gonna use `LLM selection` and `Prompt Engineering` to select the best model and prompt that fits our use case in generating the right SQL for extracting the data that can be represented in the chart. "
   ]
  },
  {
   "cell_type": "markdown",
   "metadata": {},
   "source": [
    "## Prerequisites"
   ]
  },
  {
   "cell_type": "code",
   "execution_count": null,
   "metadata": {},
   "outputs": [],
   "source": [
    "%%capture\n",
    "# Install MLX-LM framework for fine-tuning LLMs using Apple Silicon GPU\n",
    "%pip install mlx-lm\n",
    "\n",
    "# Install Hugging Face Hub to download models from the Hugging Face Hub\n",
    "%pip install huggingface_hub"
   ]
  },
  {
   "cell_type": "markdown",
   "metadata": {},
   "source": [
    "## LLM Selection\n",
    "\n",
    "During the selection process, we found that [defog/llama-3-sqlcoder-8b](https://huggingface.co/defog/llama-3-sqlcoder-8b) is the most capable model for the task of text to SQL based on our requirements"
   ]
  },
  {
   "cell_type": "markdown",
   "metadata": {},
   "source": [
    "## Prompt Engineering\n",
    "\n",
    "In this step, we are gonna construct the prompt that can be used to generate the SQL query. In order to integrate the result of the SQL with the application, we need to provide to our model the following information:\n",
    "\n",
    "### 1. The main task\n",
    "\n",
    "#### Example: \n",
    "```text\n",
    "Generate a SQL query to answer the question: \"What is the total number of sales for each product?\"\n",
    "```\n",
    "\n",
    "### 2. The instructions\n",
    "\n",
    "Specify the instructions for the model to generate the SQL query. For example, most of the chart data is based on some aggregate functions and the result set consists of two columns, one for the label and the other for the value. In order to extract the data easily, we can have a convention that the aggregate function has always the alias 'value' and the group by column has always the alias 'label'.\n",
    "\n",
    "#### Example: \n",
    "\n",
    "```text\n",
    "- If you cannot answer the question with the available database schema, return 'I do not know'\n",
    "- The aggregate function has always the alias 'value'\n",
    "- The group by column has always the alias 'label'\n",
    "...\n",
    "```\n",
    "\n",
    "### 3. The database schema\n",
    "\n",
    "Provide the database schema to the model to generate the SQL query. The schema should be in the following format and will be provided at runtime to the model\n",
    "\n",
    "#### Example: \n",
    "\n",
    "```sql\n",
    "CREATE TABLE products (\n",
    "  product_id INTEGER PRIMARY KEY, -- Unique ID for each product\n",
    "  name VARCHAR(50), -- Name of the product\n",
    "  price DECIMAL(10,2), -- Price of each unit of the product\n",
    "  quantity INTEGER  -- Current quantity in stock\n",
    ");\n",
    "\n",
    "...\n",
    "\n",
    "-- sales.product_id can be joined with products.product_id\n",
    "-- sales.customer_id can be joined with customers.customer_id\n",
    "```"
   ]
  },
  {
   "cell_type": "code",
   "execution_count": 3,
   "metadata": {},
   "outputs": [],
   "source": [
    "user_question = \"total number of sales people by region in a bar chart\"\n",
    "instructions = \"\"\"\n",
    "- If you cannot answer the question with the available database schema, return 'I do not know'\n",
    "- Remember that revenue is price multiplied by quantity\n",
    "- Remember that cost is supply_price multiplied by quantity\n",
    "- The aggregate function has always the alias 'value' d\n",
    "- The group by column has always the alias 'label'\n",
    "\"\"\"\n",
    "ddl_statements = \"\"\"\n",
    "CREATE TABLE products (\n",
    "  product_id INTEGER PRIMARY KEY, -- Unique ID for each product\n",
    "  name VARCHAR(50), -- Name of the product\n",
    "  price DECIMAL(10,2), -- Price of each unit of the product\n",
    "  quantity INTEGER  -- Current quantity in stock\n",
    ");\n",
    "\n",
    "CREATE TABLE customers (\n",
    "   customer_id INTEGER PRIMARY KEY, -- Unique ID for each customer\n",
    "   name VARCHAR(50), -- Name of the customer\n",
    "   address VARCHAR(100) -- Mailing address of the customer\n",
    ");\n",
    "\n",
    "CREATE TABLE salespeople (\n",
    "  salesperson_id INTEGER PRIMARY KEY, -- Unique ID for each salesperson\n",
    "  name VARCHAR(50), -- Name of the salesperson\n",
    "  region VARCHAR(50) -- Geographic sales region\n",
    ");\n",
    "\n",
    "CREATE TABLE sales (\n",
    "  sale_id INTEGER PRIMARY KEY, -- Unique ID for each sale\n",
    "  product_id INTEGER, -- ID of product sold\n",
    "  customer_id INTEGER,  -- ID of customer who made purchase\n",
    "  salesperson_id INTEGER, -- ID of salesperson who made the sale\n",
    "  sale_date DATE, -- Date the sale occurred\n",
    "  quantity INTEGER -- Quantity of product sold\n",
    ");\n",
    "\n",
    "CREATE TABLE product_suppliers (\n",
    "  supplier_id INTEGER PRIMARY KEY, -- Unique ID for each supplier\n",
    "  product_id INTEGER, -- Product ID supplied\n",
    "  supply_price DECIMAL(10,2) -- Unit price charged by supplier\n",
    ");\n",
    "\n",
    "-- sales.product_id can be joined with products.product_id\n",
    "-- sales.customer_id can be joined with customers.customer_id\n",
    "-- sales.salesperson_id can be joined with salespeople.salesperson_id\n",
    "-- product_suppliers.product_id can be joined with products.product_id  \n",
    "\"\"\"\n",
    "\n",
    "prompt = \"\"\"<|begin_of_text|><|start_header_id|>user<|end_header_id|>\n",
    "Generate a SQL query to answer this question: `{user_question}`.\n",
    "{instructions}\n",
    "\n",
    "DDL statements:\n",
    "{ddl_statements}\n",
    "<|eot_id|><|start_header_id|>assistant<|end_header_id|>\n",
    "\n",
    "The following SQL query best answers the question `{user_question}`:\n",
    "```sql\n",
    "\"\"\"\n",
    "\n",
    "prompt = prompt.format(user_question=user_question, instructions=instructions, ddl_statements=ddl_statements)"
   ]
  },
  {
   "cell_type": "markdown",
   "metadata": {},
   "source": [
    "## Inference"
   ]
  },
  {
   "cell_type": "code",
   "execution_count": null,
   "metadata": {},
   "outputs": [],
   "source": [
    "from mlx_lm import load, generate\n",
    "\n",
    "model_id = 'defog/llama-3-sqlcoder-8b'\n",
    "model, tokenizer = load(model_id)\n",
    "\n",
    "temperature = 0.0 # Recommended temperature for SQL generation\n",
    "response = generate(model, tokenizer, prompt=prompt, max_tokens=2048, verbose=True, temp=temperature)"
   ]
  },
  {
   "cell_type": "markdown",
   "metadata": {},
   "source": [
    "## Saving the model"
   ]
  },
  {
   "cell_type": "markdown",
   "metadata": {},
   "source": [
    "### GGUF format"
   ]
  },
  {
   "cell_type": "code",
   "execution_count": null,
   "metadata": {},
   "outputs": [],
   "source": [
    "from huggingface_hub import snapshot_download\n",
    "\n",
    "format = \"q8_0\" # f16, f32, b16, q8_0\n",
    "\n",
    "# Download the model from the Hugging Face Hub\n",
    "snapshot_download(model_id, local_dir=\"sqlcoder\", local_dir_use_symlinks=False, revision=\"main\")\n",
    "\n",
    "# Convert the fused model to GGUF format using llama.cpp\n",
    "!git clone https://github.com/ggerganov/llama.cpp.git && cd llama.cpp && python3 convert_hf_to_gguf.py ../sqlcoder --outfile ../chart-data.gguf --outtype {format}\n",
    "\n",
    "print(\"Conversion to GGUF format is complete.\")\n",
    "!rm -rf llama.cpp\n",
    "!rm -rf sqlcoder"
   ]
  }
 ],
 "metadata": {
  "kernelspec": {
   "display_name": "Python 3",
   "language": "python",
   "name": "python3"
  },
  "language_info": {
   "codemirror_mode": {
    "name": "ipython",
    "version": 3
   },
   "file_extension": ".py",
   "mimetype": "text/x-python",
   "name": "python",
   "nbconvert_exporter": "python",
   "pygments_lexer": "ipython3",
   "version": "3.12.4"
  }
 },
 "nbformat": 4,
 "nbformat_minor": 2
}
